{
 "cells": [
  {
   "cell_type": "markdown",
   "id": "d091b39c-1d9e-4935-85d8-d324b708c42c",
   "metadata": {},
   "source": [
    "# Project: Description\n",
    "\n",
    "The starting point for this project is the `Polygon` class and the `Polygons` sequence type we created in the previous project.\n",
    "\n",
    "The code for these classes along with the unit tests for the `Polygon` class are below if you want to use those as your starting point. But use whatever you came up with in the last project.\n",
    "\n",
    "\n",
    "\n",
    "# ONLY Goal \n",
    "\n",
    "Refactor the `Polygons` (sequence) type, into an **iterable**. \n",
    "You'll need to implement both an iterable, and an iterator."
   ]
  },
  {
   "cell_type": "code",
   "execution_count": 1,
   "id": "606e0fe9-a9c0-4642-800c-781180ec010c",
   "metadata": {},
   "outputs": [],
   "source": [
    "from polygon import Polygon"
   ]
  },
  {
   "cell_type": "code",
   "execution_count": 2,
   "id": "48c37c49-4caf-40a7-97a3-2318f2079618",
   "metadata": {},
   "outputs": [],
   "source": [
    "from polygon_sequence import Polygons"
   ]
  },
  {
   "cell_type": "code",
   "execution_count": 3,
   "id": "7a085c06",
   "metadata": {},
   "outputs": [],
   "source": [
    "import math"
   ]
  },
  {
   "cell_type": "code",
   "execution_count": 4,
   "id": "01d3b22d",
   "metadata": {},
   "outputs": [],
   "source": [
    "def test_polygon():\n",
    "    abs_tol = 0.001\n",
    "    rel_tol = 0.001\n",
    "    \n",
    "    try:\n",
    "        p = Polygon(2, 10)\n",
    "        assert False, ('Creating a Polygon with 2 sides: '\n",
    "                       ' Exception expected, not received')\n",
    "    except ValueError:\n",
    "        pass\n",
    "                       \n",
    "    n = 3\n",
    "    R = 1\n",
    "    p = Polygon(n, R)\n",
    "    assert str(p) == 'Polygon(n=3, R=1)', f'actual: {str(p)}'\n",
    "    assert p.count_vertices == n, (f'actual: {p.count_vertices},'\n",
    "                                   f' expected: {n}')\n",
    "    assert p.count_edges == n, f'actual: {p.count_edges}, expected: {n}'\n",
    "    assert p.circumradius == R, f'actual: {p.circumradius}, expected: {n}'\n",
    "    assert p.interior_angle == 60, (f'actual: {p.interior_angle},'\n",
    "                                    ' expected: 60')\n",
    "    n = 4\n",
    "    R = 1\n",
    "    p = Polygon(n, R)\n",
    "    assert p.interior_angle == 90, (f'actual: {p.interior_angle}, '\n",
    "                                    ' expected: 90')\n",
    "    assert math.isclose(p.area, 2, \n",
    "                        rel_tol=abs_tol, \n",
    "                        abs_tol=abs_tol), (f'actual: {p.area},'\n",
    "                                           ' expected: 2.0')\n",
    "    \n",
    "    assert math.isclose(p.side_length, math.sqrt(2),\n",
    "                       rel_tol=rel_tol,\n",
    "                       abs_tol=abs_tol), (f'actual: {p.side_length},'\n",
    "                                          f' expected: {math.sqrt(2)}')\n",
    "    \n",
    "    assert math.isclose(p.perimeter, 4 * math.sqrt(2),\n",
    "                       rel_tol=rel_tol,\n",
    "                       abs_tol=abs_tol), (f'actual: {p.perimeter},'\n",
    "                                          f' expected: {4 * math.sqrt(2)}')\n",
    "    \n",
    "    assert math.isclose(p.apothem, 0.707,\n",
    "                       rel_tol=rel_tol,\n",
    "                       abs_tol=abs_tol), (f'actual: {p.perimeter},'\n",
    "                                          ' expected: 0.707')\n",
    "    p = Polygon(6, 2)\n",
    "    assert math.isclose(p.side_length, 2,\n",
    "                        rel_tol=rel_tol, abs_tol=abs_tol)\n",
    "    assert math.isclose(p.apothem, 1.73205,\n",
    "                        rel_tol=rel_tol, abs_tol=abs_tol)\n",
    "    assert math.isclose(p.area, 10.3923,\n",
    "                        rel_tol=rel_tol, abs_tol=abs_tol)\n",
    "    assert math.isclose(p.perimeter, 12,\n",
    "                        rel_tol=rel_tol, abs_tol=abs_tol)\n",
    "    assert math.isclose(p.interior_angle, 120,\n",
    "                        rel_tol=rel_tol, abs_tol=abs_tol)\n",
    "    \n",
    "    p = Polygon(12, 3)\n",
    "    assert math.isclose(p.side_length, 1.55291,\n",
    "                        rel_tol=rel_tol, abs_tol=abs_tol)\n",
    "    assert math.isclose(p.apothem, 2.89778,\n",
    "                        rel_tol=rel_tol, abs_tol=abs_tol)\n",
    "    assert math.isclose(p.area, 27,\n",
    "                        rel_tol=rel_tol, abs_tol=abs_tol)\n",
    "    assert math.isclose(p.perimeter, 18.635,\n",
    "                        rel_tol=rel_tol, abs_tol=abs_tol)\n",
    "    assert math.isclose(p.interior_angle, 150,\n",
    "                        rel_tol=rel_tol, abs_tol=abs_tol)\n",
    "    \n",
    "    p1 = Polygon(3, 10)\n",
    "    p2 = Polygon(10, 10)\n",
    "    p3 = Polygon(15, 10)\n",
    "    p4 = Polygon(15, 100)\n",
    "    p5 = Polygon(15, 100)\n",
    "    \n",
    "    assert p2 > p1\n",
    "    assert p2 < p3\n",
    "    assert p3 != p4\n",
    "    assert p1 != p4\n",
    "    assert p4 == p5"
   ]
  },
  {
   "cell_type": "code",
   "execution_count": 5,
   "id": "75dc43d5",
   "metadata": {},
   "outputs": [],
   "source": [
    "test_polygon()"
   ]
  },
  {
   "cell_type": "markdown",
   "id": "8a11759d",
   "metadata": {},
   "source": [
    "# Sequences "
   ]
  },
  {
   "cell_type": "code",
   "execution_count": 6,
   "id": "c51407db",
   "metadata": {},
   "outputs": [
    {
     "data": {
      "text/plain": [
       "Polygons(m=10, R=4)"
      ]
     },
     "execution_count": 6,
     "metadata": {},
     "output_type": "execute_result"
    }
   ],
   "source": [
    "sequences = Polygons(10, 4)\n",
    "sequences"
   ]
  },
  {
   "cell_type": "code",
   "execution_count": 7,
   "id": "77d61ee4",
   "metadata": {},
   "outputs": [
    {
     "name": "stdout",
     "output_type": "stream",
     "text": [
      "Polygon(n=3, R=4)\n",
      "Polygon(n=4, R=4)\n",
      "Polygon(n=5, R=4)\n",
      "Polygon(n=6, R=4)\n",
      "Polygon(n=7, R=4)\n",
      "Polygon(n=8, R=4)\n",
      "Polygon(n=9, R=4)\n"
     ]
    }
   ],
   "source": [
    "for seq in sequences:\n",
    "    print (seq)"
   ]
  },
  {
   "cell_type": "code",
   "execution_count": 8,
   "id": "5fce0d33",
   "metadata": {},
   "outputs": [
    {
     "data": {
      "text/plain": [
       "Polygon(n=10, R=4)"
      ]
     },
     "execution_count": 8,
     "metadata": {},
     "output_type": "execute_result"
    }
   ],
   "source": [
    "sequences.max_efficiency_polygon"
   ]
  },
  {
   "cell_type": "markdown",
   "id": "2e146e07",
   "metadata": {},
   "source": [
    "# Iterable and iterators"
   ]
  },
  {
   "cell_type": "code",
   "execution_count": 9,
   "id": "01a88c48",
   "metadata": {},
   "outputs": [],
   "source": [
    "poly_iterator = iter(Polygons(7, 4))"
   ]
  },
  {
   "cell_type": "code",
   "execution_count": 10,
   "id": "7f0412c3",
   "metadata": {},
   "outputs": [
    {
     "data": {
      "text/plain": [
       "<polygon_sequence.Polygons.PolygonsIterator at 0x74294514c500>"
      ]
     },
     "execution_count": 10,
     "metadata": {},
     "output_type": "execute_result"
    }
   ],
   "source": [
    "poly_iterator"
   ]
  },
  {
   "cell_type": "code",
   "execution_count": 11,
   "id": "2b1e614d",
   "metadata": {},
   "outputs": [
    {
     "data": {
      "text/plain": [
       "Polygon(n=3, R=4)"
      ]
     },
     "execution_count": 11,
     "metadata": {},
     "output_type": "execute_result"
    }
   ],
   "source": [
    "next(poly_iterator)"
   ]
  },
  {
   "cell_type": "code",
   "execution_count": 12,
   "id": "0a8593c9",
   "metadata": {},
   "outputs": [
    {
     "data": {
      "text/plain": [
       "Polygon(n=4, R=4)"
      ]
     },
     "execution_count": 12,
     "metadata": {},
     "output_type": "execute_result"
    }
   ],
   "source": [
    "next(poly_iterator)"
   ]
  },
  {
   "cell_type": "code",
   "execution_count": 13,
   "id": "55b8d798",
   "metadata": {},
   "outputs": [
    {
     "data": {
      "text/plain": [
       "Polygon(n=5, R=4)"
      ]
     },
     "execution_count": 13,
     "metadata": {},
     "output_type": "execute_result"
    }
   ],
   "source": [
    "next(poly_iterator)"
   ]
  },
  {
   "cell_type": "code",
   "execution_count": 14,
   "id": "8914e180",
   "metadata": {},
   "outputs": [
    {
     "data": {
      "text/plain": [
       "Polygon(n=6, R=4)"
      ]
     },
     "execution_count": 14,
     "metadata": {},
     "output_type": "execute_result"
    }
   ],
   "source": [
    "next(poly_iterator)"
   ]
  },
  {
   "cell_type": "code",
   "execution_count": 15,
   "id": "cb3ef23e",
   "metadata": {},
   "outputs": [
    {
     "ename": "StopIteration",
     "evalue": "",
     "output_type": "error",
     "traceback": [
      "\u001b[0;31m---------------------------------------------------------------------------\u001b[0m",
      "\u001b[0;31mStopIteration\u001b[0m                             Traceback (most recent call last)",
      "Cell \u001b[0;32mIn[15], line 1\u001b[0m\n\u001b[0;32m----> 1\u001b[0m \u001b[38;5;28;43mnext\u001b[39;49m\u001b[43m(\u001b[49m\u001b[43mpoly_iterator\u001b[49m\u001b[43m)\u001b[49m\n",
      "File \u001b[0;32m~/Desktop/session_10/polygon_sequence.py:46\u001b[0m, in \u001b[0;36mPolygons.PolygonsIterator.__next__\u001b[0;34m(self)\u001b[0m\n\u001b[1;32m     43\u001b[0m \u001b[38;5;28;01mdef\u001b[39;00m \u001b[38;5;21m__next__\u001b[39m(\u001b[38;5;28mself\u001b[39m):\n\u001b[1;32m     44\u001b[0m     \u001b[38;5;66;03m#print('Calling __next__')\u001b[39;00m\n\u001b[1;32m     45\u001b[0m     \u001b[38;5;28;01mif\u001b[39;00m \u001b[38;5;28mself\u001b[39m\u001b[38;5;241m.\u001b[39m_index \u001b[38;5;241m>\u001b[39m\u001b[38;5;241m=\u001b[39m \u001b[38;5;28mself\u001b[39m\u001b[38;5;241m.\u001b[39m_obj\u001b[38;5;241m.\u001b[39m_m:\n\u001b[0;32m---> 46\u001b[0m         \u001b[38;5;28;01mraise\u001b[39;00m \u001b[38;5;167;01mStopIteration\u001b[39;00m\n\u001b[1;32m     47\u001b[0m     \u001b[38;5;28;01melse\u001b[39;00m:\n\u001b[1;32m     48\u001b[0m         item \u001b[38;5;241m=\u001b[39m Polygon(\u001b[38;5;28mself\u001b[39m\u001b[38;5;241m.\u001b[39m_index, \u001b[38;5;28mself\u001b[39m\u001b[38;5;241m.\u001b[39m_obj\u001b[38;5;241m.\u001b[39m_R)\n",
      "\u001b[0;31mStopIteration\u001b[0m: "
     ]
    }
   ],
   "source": [
    "next(poly_iterator)"
   ]
  }
 ],
 "metadata": {
  "kernelspec": {
   "display_name": "Python 3 (ipykernel)",
   "language": "python",
   "name": "python3"
  },
  "language_info": {
   "codemirror_mode": {
    "name": "ipython",
    "version": 3
   },
   "file_extension": ".py",
   "mimetype": "text/x-python",
   "name": "python",
   "nbconvert_exporter": "python",
   "pygments_lexer": "ipython3",
   "version": "3.12.3"
  }
 },
 "nbformat": 4,
 "nbformat_minor": 5
}
